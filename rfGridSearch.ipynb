{
 "cells": [
  {
   "cell_type": "markdown",
   "metadata": {
    "colab_type": "text",
    "id": "Xw0lZmQETJ8t"
   },
   "source": [
    "### Parsing and Baseline"
   ]
  },
  {
   "cell_type": "markdown",
   "metadata": {
    "colab_type": "text",
    "id": "5C6Pw9SkTJ8w"
   },
   "source": [
    "**Importing Libraries**"
   ]
  },
  {
   "cell_type": "code",
   "execution_count": 328,
   "metadata": {
    "colab": {},
    "colab_type": "code",
    "id": "he-PxCC6TJ8y"
   },
   "outputs": [
    {
     "name": "stdout",
     "output_type": "stream",
     "text": [
      "The autoreload extension is already loaded. To reload it, use:\n",
      "  %reload_ext autoreload\n"
     ]
    }
   ],
   "source": [
    "import pandas as pd\n",
    "import numpy as np\n",
    "import re\n",
    "from sklearn.model_selection import train_test_split, GridSearchCV\n",
    "from scipy import sparse\n",
    "import funcs\n",
    "from skmultilearn.adapt import BRkNNaClassifier\n",
    "from skmultilearn.adapt import MLkNN\n",
    "import matplotlib.pyplot as plt\n",
    "\n",
    "from skmultilearn.problem_transform import BinaryRelevance\n",
    "from sklearn.ensemble import RandomForestClassifier\n",
    "import time\n",
    "\n",
    "from sklearn.metrics import label_ranking_average_precision_score\n",
    "\n",
    "\n",
    "%load_ext autoreload\n",
    "%autoreload 2"
   ]
  },
  {
   "cell_type": "code",
   "execution_count": 315,
   "metadata": {
    "colab": {
     "base_uri": "https://localhost:8080/",
     "height": 204
    },
    "colab_type": "code",
    "executionInfo": {
     "elapsed": 1370,
     "status": "ok",
     "timestamp": 1589552506454,
     "user": {
      "displayName": "Karmen Alexis Hutchinson",
      "photoUrl": "",
      "userId": "14607309129828448383"
     },
     "user_tz": 240
    },
    "id": "-JacwvFuTho0",
    "outputId": "7f838b1b-6761-41f9-b2ea-c1d6d2676988"
   },
   "outputs": [],
   "source": [
    "data = pd.read_csv('../train.csv')\n",
    "val = pd.read_csv('../dev.csv')"
   ]
  },
  {
   "cell_type": "code",
   "execution_count": 316,
   "metadata": {},
   "outputs": [],
   "source": [
    "#Train formatting\n",
    "x_train, y_train = funcs.data_format(data)\n",
    "#Turns dicts into sparse matrices\n",
    "x_train_s, y_train_s = funcs.sparsify(x_train, y_train)"
   ]
  },
  {
   "cell_type": "code",
   "execution_count": 318,
   "metadata": {},
   "outputs": [],
   "source": [
    "#same for val\n",
    "x_val, y_val = funcs.data_format(val)\n",
    "x_val_s, y_val_s = funcs.sparsify(x_val, y_val)"
   ]
  },
  {
   "cell_type": "code",
   "execution_count": 327,
   "metadata": {},
   "outputs": [
    {
     "name": "stdout",
     "output_type": "stream",
     "text": [
      "training time taken:  5415.0 seconds\n"
     ]
    }
   ],
   "source": [
    "start=time.time()\n",
    "classifier = BinaryRelevance(\n",
    "    classifier = RandomForestClassifier(),\n",
    "    require_dense = [False, True]\n",
    ")\n",
    "\n",
    "classifier.fit(x_train_s, y_train_s)\n",
    "\n",
    "print('training time taken: ',round(time.time()-start,0),'seconds')"
   ]
  },
  {
   "cell_type": "code",
   "execution_count": null,
   "metadata": {},
   "outputs": [],
   "source": [
    "parameters = {'max_depth': [10, 50, 100, 150], \n",
    "              'min_samples_split': [4, 8, 16, 32],\n",
    "              'min_samples_leaf': [1, 2, 3],\n",
    "             }\n",
    "\n",
    "start=time.time()\n",
    "\n",
    "classifier = GridSearchCV(RandomForestClassifier(), parameters, scoring=label_ranking_average_precision_score)\n",
    "classifier.fit(x_train, y_train)\n",
    "\n",
    "print('training time taken: ',round(time.time()-start,0),'seconds')\n",
    "print('best parameters :', classifier.best_params_, 'best score: ',\n",
    "      clf.best_score_)"
   ]
  }
 ],
 "metadata": {
  "colab": {
   "collapsed_sections": [],
   "name": "parsing_nb.ipynb",
   "provenance": []
  },
  "kernelspec": {
   "display_name": "Python 3",
   "language": "python",
   "name": "python3"
  },
  "language_info": {
   "codemirror_mode": {
    "name": "ipython",
    "version": 3
   },
   "file_extension": ".py",
   "mimetype": "text/x-python",
   "name": "python",
   "nbconvert_exporter": "python",
   "pygments_lexer": "ipython3",
   "version": "3.7.4"
  }
 },
 "nbformat": 4,
 "nbformat_minor": 1
}
