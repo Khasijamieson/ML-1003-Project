{
 "cells": [
  {
   "cell_type": "markdown",
   "metadata": {
    "colab_type": "text",
    "id": "Xw0lZmQETJ8t"
   },
   "source": [
    "### Parsing and Baseline"
   ]
  },
  {
   "cell_type": "markdown",
   "metadata": {
    "colab_type": "text",
    "id": "5C6Pw9SkTJ8w"
   },
   "source": [
    "**Importing Libraries**"
   ]
  },
  {
   "cell_type": "code",
   "execution_count": 328,
   "metadata": {
    "colab": {},
    "colab_type": "code",
    "id": "he-PxCC6TJ8y"
   },
   "outputs": [
    {
     "name": "stdout",
     "output_type": "stream",
     "text": [
      "The autoreload extension is already loaded. To reload it, use:\n",
      "  %reload_ext autoreload\n"
     ]
    }
   ],
   "source": [
    "import pandas as pd\n",
    "import numpy as np\n",
    "import re\n",
    "from sklearn.model_selection import train_test_split\n",
    "from scipy import sparse\n",
    "import funcs\n",
    "from skmultilearn.adapt import BRkNNaClassifier\n",
    "from skmultilearn.adapt import MLkNN\n",
    "import matplotlib.pyplot as plt\n",
    "\n",
    "from skmultilearn.problem_transform import BinaryRelevance\n",
    "from sklearn.ensemble import RandomForestClassifier\n",
    "import time\n",
    "\n",
    "from sklearn.metrics import label_ranking_average_precision_score\n",
    "\n",
    "\n",
    "%load_ext autoreload\n",
    "%autoreload 2"
   ]
  },
  {
   "cell_type": "code",
   "execution_count": 315,
   "metadata": {
    "colab": {
     "base_uri": "https://localhost:8080/",
     "height": 204
    },
    "colab_type": "code",
    "executionInfo": {
     "elapsed": 1370,
     "status": "ok",
     "timestamp": 1589552506454,
     "user": {
      "displayName": "Karmen Alexis Hutchinson",
      "photoUrl": "",
      "userId": "14607309129828448383"
     },
     "user_tz": 240
    },
    "id": "-JacwvFuTho0",
    "outputId": "7f838b1b-6761-41f9-b2ea-c1d6d2676988"
   },
   "outputs": [],
   "source": [
    "data = pd.read_csv('../train.csv')\n",
    "val = pd.read_csv('../dev.csv')"
   ]
  },
  {
   "cell_type": "code",
   "execution_count": 316,
   "metadata": {},
   "outputs": [],
   "source": [
    "#Train formatting\n",
    "x_train, y_train = funcs.data_format(data)\n",
    "#Turns dicts into sparse matrices\n",
    "x_train_s, y_train_s = funcs.sparsify(x_train, y_train)"
   ]
  },
  {
   "cell_type": "code",
   "execution_count": 318,
   "metadata": {},
   "outputs": [],
   "source": [
    "#same for val\n",
    "x_val, y_val = funcs.data_format(val)\n",
    "x_val_s, y_val_s = funcs.sparsify(x_val, y_val)"
   ]
  },
  {
   "cell_type": "code",
   "execution_count": 321,
   "metadata": {},
   "outputs": [
    {
     "data": {
      "text/html": [
       "<div>\n",
       "<style scoped>\n",
       "    .dataframe tbody tr th:only-of-type {\n",
       "        vertical-align: middle;\n",
       "    }\n",
       "\n",
       "    .dataframe tbody tr th {\n",
       "        vertical-align: top;\n",
       "    }\n",
       "\n",
       "    .dataframe thead th {\n",
       "        text-align: right;\n",
       "    }\n",
       "</style>\n",
       "<table border=\"1\" class=\"dataframe\">\n",
       "  <thead>\n",
       "    <tr style=\"text-align: right;\">\n",
       "      <th></th>\n",
       "      <th>0</th>\n",
       "      <th>1</th>\n",
       "      <th>2</th>\n",
       "      <th>3</th>\n",
       "      <th>4</th>\n",
       "      <th>5</th>\n",
       "      <th>6</th>\n",
       "      <th>7</th>\n",
       "      <th>8</th>\n",
       "      <th>9</th>\n",
       "      <th>...</th>\n",
       "      <th>4990</th>\n",
       "      <th>4991</th>\n",
       "      <th>4992</th>\n",
       "      <th>4993</th>\n",
       "      <th>4994</th>\n",
       "      <th>4995</th>\n",
       "      <th>4996</th>\n",
       "      <th>4997</th>\n",
       "      <th>4998</th>\n",
       "      <th>4999</th>\n",
       "    </tr>\n",
       "  </thead>\n",
       "  <tbody>\n",
       "    <tr>\n",
       "      <th>0</th>\n",
       "      <td>0.118379</td>\n",
       "      <td>0.346484</td>\n",
       "      <td>0.424367</td>\n",
       "      <td>0.195764</td>\n",
       "      <td>0.350030</td>\n",
       "      <td>0.212981</td>\n",
       "      <td>0.137765</td>\n",
       "      <td>0.145839</td>\n",
       "      <td>0.152305</td>\n",
       "      <td>0.309297</td>\n",
       "      <td>...</td>\n",
       "      <td>0.0</td>\n",
       "      <td>0.0</td>\n",
       "      <td>0.0</td>\n",
       "      <td>0.0</td>\n",
       "      <td>0.0</td>\n",
       "      <td>0.0</td>\n",
       "      <td>0.0</td>\n",
       "      <td>0.0</td>\n",
       "      <td>0.0</td>\n",
       "      <td>0.0</td>\n",
       "    </tr>\n",
       "    <tr>\n",
       "      <th>1</th>\n",
       "      <td>0.084556</td>\n",
       "      <td>0.970155</td>\n",
       "      <td>0.471519</td>\n",
       "      <td>0.261019</td>\n",
       "      <td>0.350030</td>\n",
       "      <td>0.745434</td>\n",
       "      <td>0.275531</td>\n",
       "      <td>0.291678</td>\n",
       "      <td>1.675356</td>\n",
       "      <td>0.463946</td>\n",
       "      <td>...</td>\n",
       "      <td>0.0</td>\n",
       "      <td>0.0</td>\n",
       "      <td>0.0</td>\n",
       "      <td>0.0</td>\n",
       "      <td>0.0</td>\n",
       "      <td>0.0</td>\n",
       "      <td>0.0</td>\n",
       "      <td>0.0</td>\n",
       "      <td>0.0</td>\n",
       "      <td>0.0</td>\n",
       "    </tr>\n",
       "    <tr>\n",
       "      <th>2</th>\n",
       "      <td>0.050734</td>\n",
       "      <td>1.524530</td>\n",
       "      <td>2.027533</td>\n",
       "      <td>0.652547</td>\n",
       "      <td>0.000000</td>\n",
       "      <td>5.005057</td>\n",
       "      <td>0.137765</td>\n",
       "      <td>0.583356</td>\n",
       "      <td>3.503017</td>\n",
       "      <td>0.618594</td>\n",
       "      <td>...</td>\n",
       "      <td>0.0</td>\n",
       "      <td>0.0</td>\n",
       "      <td>0.0</td>\n",
       "      <td>0.0</td>\n",
       "      <td>0.0</td>\n",
       "      <td>0.0</td>\n",
       "      <td>0.0</td>\n",
       "      <td>0.0</td>\n",
       "      <td>0.0</td>\n",
       "      <td>0.0</td>\n",
       "    </tr>\n",
       "    <tr>\n",
       "      <th>3</th>\n",
       "      <td>0.118379</td>\n",
       "      <td>0.000000</td>\n",
       "      <td>0.235760</td>\n",
       "      <td>0.065255</td>\n",
       "      <td>0.262522</td>\n",
       "      <td>0.000000</td>\n",
       "      <td>0.000000</td>\n",
       "      <td>0.145839</td>\n",
       "      <td>0.609220</td>\n",
       "      <td>0.000000</td>\n",
       "      <td>...</td>\n",
       "      <td>0.0</td>\n",
       "      <td>0.0</td>\n",
       "      <td>0.0</td>\n",
       "      <td>0.0</td>\n",
       "      <td>0.0</td>\n",
       "      <td>0.0</td>\n",
       "      <td>0.0</td>\n",
       "      <td>0.0</td>\n",
       "      <td>0.0</td>\n",
       "      <td>0.0</td>\n",
       "    </tr>\n",
       "    <tr>\n",
       "      <th>4</th>\n",
       "      <td>0.033823</td>\n",
       "      <td>0.103945</td>\n",
       "      <td>0.094304</td>\n",
       "      <td>0.195764</td>\n",
       "      <td>0.175015</td>\n",
       "      <td>0.745434</td>\n",
       "      <td>0.137765</td>\n",
       "      <td>0.145839</td>\n",
       "      <td>0.304610</td>\n",
       "      <td>0.618594</td>\n",
       "      <td>...</td>\n",
       "      <td>0.0</td>\n",
       "      <td>0.0</td>\n",
       "      <td>0.0</td>\n",
       "      <td>0.0</td>\n",
       "      <td>0.0</td>\n",
       "      <td>0.0</td>\n",
       "      <td>0.0</td>\n",
       "      <td>0.0</td>\n",
       "      <td>0.0</td>\n",
       "      <td>0.0</td>\n",
       "    </tr>\n",
       "    <tr>\n",
       "      <th>...</th>\n",
       "      <td>...</td>\n",
       "      <td>...</td>\n",
       "      <td>...</td>\n",
       "      <td>...</td>\n",
       "      <td>...</td>\n",
       "      <td>...</td>\n",
       "      <td>...</td>\n",
       "      <td>...</td>\n",
       "      <td>...</td>\n",
       "      <td>...</td>\n",
       "      <td>...</td>\n",
       "      <td>...</td>\n",
       "      <td>...</td>\n",
       "      <td>...</td>\n",
       "      <td>...</td>\n",
       "      <td>...</td>\n",
       "      <td>...</td>\n",
       "      <td>...</td>\n",
       "      <td>...</td>\n",
       "      <td>...</td>\n",
       "      <td>...</td>\n",
       "    </tr>\n",
       "    <tr>\n",
       "      <th>1309</th>\n",
       "      <td>0.236758</td>\n",
       "      <td>0.381132</td>\n",
       "      <td>0.282912</td>\n",
       "      <td>0.261019</td>\n",
       "      <td>0.700060</td>\n",
       "      <td>0.425962</td>\n",
       "      <td>0.137765</td>\n",
       "      <td>0.291678</td>\n",
       "      <td>1.218441</td>\n",
       "      <td>0.927891</td>\n",
       "      <td>...</td>\n",
       "      <td>0.0</td>\n",
       "      <td>0.0</td>\n",
       "      <td>0.0</td>\n",
       "      <td>0.0</td>\n",
       "      <td>0.0</td>\n",
       "      <td>0.0</td>\n",
       "      <td>0.0</td>\n",
       "      <td>0.0</td>\n",
       "      <td>0.0</td>\n",
       "      <td>0.0</td>\n",
       "    </tr>\n",
       "    <tr>\n",
       "      <th>1310</th>\n",
       "      <td>0.016911</td>\n",
       "      <td>0.415781</td>\n",
       "      <td>0.188608</td>\n",
       "      <td>0.065255</td>\n",
       "      <td>0.087507</td>\n",
       "      <td>0.000000</td>\n",
       "      <td>0.137765</td>\n",
       "      <td>0.583356</td>\n",
       "      <td>0.000000</td>\n",
       "      <td>0.463946</td>\n",
       "      <td>...</td>\n",
       "      <td>0.0</td>\n",
       "      <td>0.0</td>\n",
       "      <td>0.0</td>\n",
       "      <td>0.0</td>\n",
       "      <td>0.0</td>\n",
       "      <td>0.0</td>\n",
       "      <td>0.0</td>\n",
       "      <td>0.0</td>\n",
       "      <td>0.0</td>\n",
       "      <td>0.0</td>\n",
       "    </tr>\n",
       "    <tr>\n",
       "      <th>1311</th>\n",
       "      <td>0.033823</td>\n",
       "      <td>0.207890</td>\n",
       "      <td>0.047152</td>\n",
       "      <td>0.195764</td>\n",
       "      <td>0.350030</td>\n",
       "      <td>0.212981</td>\n",
       "      <td>0.137765</td>\n",
       "      <td>0.145839</td>\n",
       "      <td>1.066136</td>\n",
       "      <td>0.618594</td>\n",
       "      <td>...</td>\n",
       "      <td>0.0</td>\n",
       "      <td>0.0</td>\n",
       "      <td>0.0</td>\n",
       "      <td>0.0</td>\n",
       "      <td>0.0</td>\n",
       "      <td>0.0</td>\n",
       "      <td>0.0</td>\n",
       "      <td>0.0</td>\n",
       "      <td>0.0</td>\n",
       "      <td>0.0</td>\n",
       "    </tr>\n",
       "    <tr>\n",
       "      <th>1312</th>\n",
       "      <td>0.050734</td>\n",
       "      <td>0.207890</td>\n",
       "      <td>0.188608</td>\n",
       "      <td>0.130509</td>\n",
       "      <td>0.087507</td>\n",
       "      <td>0.638943</td>\n",
       "      <td>0.137765</td>\n",
       "      <td>0.583356</td>\n",
       "      <td>0.304610</td>\n",
       "      <td>0.463946</td>\n",
       "      <td>...</td>\n",
       "      <td>0.0</td>\n",
       "      <td>0.0</td>\n",
       "      <td>0.0</td>\n",
       "      <td>0.0</td>\n",
       "      <td>0.0</td>\n",
       "      <td>0.0</td>\n",
       "      <td>0.0</td>\n",
       "      <td>0.0</td>\n",
       "      <td>0.0</td>\n",
       "      <td>0.0</td>\n",
       "    </tr>\n",
       "    <tr>\n",
       "      <th>1313</th>\n",
       "      <td>0.050734</td>\n",
       "      <td>0.381132</td>\n",
       "      <td>0.282912</td>\n",
       "      <td>0.261019</td>\n",
       "      <td>0.262522</td>\n",
       "      <td>0.212981</td>\n",
       "      <td>0.275531</td>\n",
       "      <td>0.145839</td>\n",
       "      <td>1.675356</td>\n",
       "      <td>0.309297</td>\n",
       "      <td>...</td>\n",
       "      <td>0.0</td>\n",
       "      <td>0.0</td>\n",
       "      <td>0.0</td>\n",
       "      <td>0.0</td>\n",
       "      <td>0.0</td>\n",
       "      <td>0.0</td>\n",
       "      <td>0.0</td>\n",
       "      <td>0.0</td>\n",
       "      <td>0.0</td>\n",
       "      <td>0.0</td>\n",
       "    </tr>\n",
       "  </tbody>\n",
       "</table>\n",
       "<p>1314 rows × 5000 columns</p>\n",
       "</div>"
      ],
      "text/plain": [
       "          0         1         2         3         4         5         6     \\\n",
       "0     0.118379  0.346484  0.424367  0.195764  0.350030  0.212981  0.137765   \n",
       "1     0.084556  0.970155  0.471519  0.261019  0.350030  0.745434  0.275531   \n",
       "2     0.050734  1.524530  2.027533  0.652547  0.000000  5.005057  0.137765   \n",
       "3     0.118379  0.000000  0.235760  0.065255  0.262522  0.000000  0.000000   \n",
       "4     0.033823  0.103945  0.094304  0.195764  0.175015  0.745434  0.137765   \n",
       "...        ...       ...       ...       ...       ...       ...       ...   \n",
       "1309  0.236758  0.381132  0.282912  0.261019  0.700060  0.425962  0.137765   \n",
       "1310  0.016911  0.415781  0.188608  0.065255  0.087507  0.000000  0.137765   \n",
       "1311  0.033823  0.207890  0.047152  0.195764  0.350030  0.212981  0.137765   \n",
       "1312  0.050734  0.207890  0.188608  0.130509  0.087507  0.638943  0.137765   \n",
       "1313  0.050734  0.381132  0.282912  0.261019  0.262522  0.212981  0.275531   \n",
       "\n",
       "          7         8         9     ...  4990  4991  4992  4993  4994  4995  \\\n",
       "0     0.145839  0.152305  0.309297  ...   0.0   0.0   0.0   0.0   0.0   0.0   \n",
       "1     0.291678  1.675356  0.463946  ...   0.0   0.0   0.0   0.0   0.0   0.0   \n",
       "2     0.583356  3.503017  0.618594  ...   0.0   0.0   0.0   0.0   0.0   0.0   \n",
       "3     0.145839  0.609220  0.000000  ...   0.0   0.0   0.0   0.0   0.0   0.0   \n",
       "4     0.145839  0.304610  0.618594  ...   0.0   0.0   0.0   0.0   0.0   0.0   \n",
       "...        ...       ...       ...  ...   ...   ...   ...   ...   ...   ...   \n",
       "1309  0.291678  1.218441  0.927891  ...   0.0   0.0   0.0   0.0   0.0   0.0   \n",
       "1310  0.583356  0.000000  0.463946  ...   0.0   0.0   0.0   0.0   0.0   0.0   \n",
       "1311  0.145839  1.066136  0.618594  ...   0.0   0.0   0.0   0.0   0.0   0.0   \n",
       "1312  0.583356  0.304610  0.463946  ...   0.0   0.0   0.0   0.0   0.0   0.0   \n",
       "1313  0.145839  1.675356  0.309297  ...   0.0   0.0   0.0   0.0   0.0   0.0   \n",
       "\n",
       "      4996  4997  4998  4999  \n",
       "0      0.0   0.0   0.0   0.0  \n",
       "1      0.0   0.0   0.0   0.0  \n",
       "2      0.0   0.0   0.0   0.0  \n",
       "3      0.0   0.0   0.0   0.0  \n",
       "4      0.0   0.0   0.0   0.0  \n",
       "...    ...   ...   ...   ...  \n",
       "1309   0.0   0.0   0.0   0.0  \n",
       "1310   0.0   0.0   0.0   0.0  \n",
       "1311   0.0   0.0   0.0   0.0  \n",
       "1312   0.0   0.0   0.0   0.0  \n",
       "1313   0.0   0.0   0.0   0.0  \n",
       "\n",
       "[1314 rows x 5000 columns]"
      ]
     },
     "execution_count": 321,
     "metadata": {},
     "output_type": "execute_result"
    }
   ],
   "source": [
    "pd.DataFrame.sparse.from_spmatrix(x_val_s)"
   ]
  },
  {
   "cell_type": "code",
   "execution_count": 341,
   "metadata": {},
   "outputs": [
    {
     "data": {
      "text/plain": [
       "0.2724114346345276"
      ]
     },
     "execution_count": 341,
     "metadata": {},
     "output_type": "execute_result"
    }
   ],
   "source": [
    "classifier = BRkNNaClassifier(k=1)\n",
    "classifier.fit(x_train_s, y_train_s)\n",
    "predictions = classifier.predict(x_val_s)\n",
    "label_ranking_average_precision_score(y_val_s.toarray(), predictions.toarray())\n",
    "#classifier.score(x_val_s, y_val_s)"
   ]
  },
  {
   "cell_type": "code",
   "execution_count": 338,
   "metadata": {},
   "outputs": [
    {
     "data": {
      "text/plain": [
       "[<matplotlib.lines.Line2D at 0x1a8f0047b8>]"
      ]
     },
     "execution_count": 338,
     "metadata": {},
     "output_type": "execute_result"
    },
    {
     "data": {
      "image/png": "[encoded data removed]",
      "text/plain": [
       "<Figure size 432x288 with 1 Axes>"
      ]
     },
     "metadata": {
      "needs_background": "light"
     },
     "output_type": "display_data"
    }
   ],
   "source": [
    "scores = []\n",
    "ks =[1,2,3,4,5,6,7,8,9,10]\n",
    "for k in ks:\n",
    "    classifier = BRkNNaClassifier(k=k)\n",
    "    classifier.fit(x_train_s, y_train_s)\n",
    "    predictions = classifier.predict(x_val_s)\n",
    "    scores.append(label_ranking_average_precision_score(y_val_s.toarray(), predictions.toarray()))\n",
    "plt.plot(ks, scores)"
   ]
  },
  {
   "cell_type": "code",
   "execution_count": 327,
   "metadata": {},
   "outputs": [
    {
     "name": "stdout",
     "output_type": "stream",
     "text": [
      "training time taken:  5415.0 seconds\n"
     ]
    }
   ],
   "source": [
    "start=time.time()\n",
    "classifier = BinaryRelevance(\n",
    "    classifier = RandomForestClassifier(),\n",
    "    require_dense = [False, True]\n",
    ")\n",
    "\n",
    "classifier.fit(x_train_s, y_train_s)\n",
    "\n",
    "print('training time taken: ',round(time.time()-start,0),'seconds')"
   ]
  },
  {
   "cell_type": "code",
   "execution_count": 329,
   "metadata": {},
   "outputs": [
    {
     "name": "stdout",
     "output_type": "stream",
     "text": [
      "prediction time taken:  388.0 seconds\n"
     ]
    }
   ],
   "source": [
    "start=time.time()\n",
    "y_hat = classifier.predict(x_val_s)\n",
    "print('prediction time taken: ',round(time.time()-start,0),'seconds')"
   ]
  },
  {
   "cell_type": "code",
   "execution_count": 333,
   "metadata": {},
   "outputs": [
    {
     "data": {
      "text/plain": [
       "array([[0., 0., 0., ..., 0., 0., 0.],\n",
       "       [0., 0., 0., ..., 0., 0., 0.],\n",
       "       [0., 0., 0., ..., 0., 0., 0.],\n",
       "       ...,\n",
       "       [0., 0., 0., ..., 0., 0., 0.],\n",
       "       [0., 0., 0., ..., 0., 0., 0.],\n",
       "       [0., 0., 0., ..., 0., 0., 0.]])"
      ]
     },
     "execution_count": 333,
     "metadata": {},
     "output_type": "execute_result"
    }
   ],
   "source": [
    "y_hat.toarray()"
   ]
  },
  {
   "cell_type": "code",
   "execution_count": 332,
   "metadata": {},
   "outputs": [
    {
     "data": {
      "text/plain": [
       "0.19023742798627238"
      ]
     },
     "execution_count": 332,
     "metadata": {},
     "output_type": "execute_result"
    }
   ],
   "source": [
    "label_ranking_average_precision_score(y_val_s.toarray(), y_hat.toarray())"
   ]
  },
  {
   "cell_type": "code",
   "execution_count": null,
   "metadata": {},
   "outputs": [],
   "source": []
  }
 ],
 "metadata": {
  "colab": {
   "collapsed_sections": [],
   "name": "parsing_nb.ipynb",
   "provenance": []
  },
  "kernelspec": {
   "display_name": "Python 3",
   "language": "python",
   "name": "python3"
  },
  "language_info": {
   "codemirror_mode": {
    "name": "ipython",
    "version": 3
   },
   "file_extension": ".py",
   "mimetype": "text/x-python",
   "name": "python",
   "nbconvert_exporter": "python",
   "pygments_lexer": "ipython3",
   "version": "3.7.3"
  }
 },
 "nbformat": 4,
 "nbformat_minor": 1
}
